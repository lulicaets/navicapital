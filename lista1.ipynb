{
  "nbformat": 4,
  "nbformat_minor": 0,
  "metadata": {
    "colab": {
      "name": "lista1.ipynb",
      "provenance": [],
      "collapsed_sections": []
    },
    "kernelspec": {
      "name": "python3",
      "display_name": "Python 3"
    }
  },
  "cells": [
    {
      "cell_type": "code",
      "metadata": {
        "id": "07WPtS-wCcRz",
        "colab": {
          "base_uri": "https://localhost:8080/",
          "height": 34
        },
        "outputId": "e3ccf523-6fdb-4533-e359-be61930ca3ec"
      },
      "source": [
        "# Exercise 1 \n",
        "product = 2020*2019\n",
        "print(product)"
      ],
      "execution_count": null,
      "outputs": [
        {
          "output_type": "stream",
          "text": [
            "4078380\n"
          ],
          "name": "stdout"
        }
      ]
    },
    {
      "cell_type": "code",
      "metadata": {
        "id": "GwS-1RYJCmgw",
        "colab": {
          "base_uri": "https://localhost:8080/"
        },
        "outputId": "6109ad62-2b42-4ea7-a4f9-0cf49c407280"
      },
      "source": [
        "# Exercise 2 \n",
        "n = input(\"escolha um número: \")\n",
        "triplo = int(n)*3\n",
        "print(\"o triplo é \", str(triplo))"
      ],
      "execution_count": null,
      "outputs": [
        {
          "output_type": "stream",
          "text": [
            "escolha um número: 4\n",
            "o triplo é  12\n"
          ],
          "name": "stdout"
        }
      ]
    },
    {
      "cell_type": "code",
      "metadata": {
        "id": "V8uiOdEOEP7Q",
        "colab": {
          "base_uri": "https://localhost:8080/"
        },
        "outputId": "3eb3b7d5-b3c6-438d-eef6-9fffd1f44745"
      },
      "source": [
        "# Exercise 3 \n",
        "n1 = int(input(\"escolha o primeiro número inteiro \"))\n",
        "n2 = int(input(\"escolha o segundo número inteiro \"))\n",
        "resultado = n1*n2\n",
        "print(\"o resultado do produto é: \", resultado)\n",
        "if resultado > 1000:\n",
        "  print(\"o resultado da soma é: \", n1 + n2)\n"
      ],
      "execution_count": null,
      "outputs": [
        {
          "output_type": "stream",
          "text": [
            "escolha o primeiro número inteiro 10\n",
            "escolha o segundo número inteiro 10\n",
            "o resultado do produto é:  100\n"
          ],
          "name": "stdout"
        }
      ]
    },
    {
      "cell_type": "code",
      "metadata": {
        "id": "bz_eef59sGqS"
      },
      "source": [
        ""
      ],
      "execution_count": null,
      "outputs": []
    },
    {
      "cell_type": "code",
      "metadata": {
        "id": "3oR3gFGd_hg9",
        "colab": {
          "base_uri": "https://localhost:8080/",
          "height": 67
        },
        "outputId": "c65fd816-9bee-4207-8f04-455aa70324c7"
      },
      "source": [
        "# Exercise 4\n",
        "polígono = input(\"escolha entre um quadrado, um triângulo ou um retângulo: \")\n",
        "área = \"não foi possível calcular\"\n",
        "if polígono == \"quadrado\":\n",
        "  v1 = int(input(\"escolha uma variável: \"))\n",
        "if polígono == \"triângulo\":\n",
        "  v1 = int(input(\"escolha uma variável: \"))\n",
        "  v2 = int(input(\"escolha outra variável: \"))\n",
        "if polígono == \"retângulo\":\n",
        "  v1 = int(input(\"escolha uma variável: \"))\n",
        "  v2 = int(input(\"escolha outra variável: \"))\n",
        "\n",
        "if polígono == \"quadrado\":\n",
        "  área = v1*v1\n",
        "if polígono == \"retângulo\":\n",
        "  área = v1*v2\n",
        "if polígono == \"triângulo\":\n",
        "  área = (v1*v2)/2\n",
        "\n",
        "print(área, \"u.a.\")"
      ],
      "execution_count": null,
      "outputs": [
        {
          "output_type": "stream",
          "text": [
            "escolha entre um quadrado, um triângulo ou um retângulo: quadrado\n",
            "escolha uma variável: 5\n",
            "25 u.a.\n"
          ],
          "name": "stdout"
        }
      ]
    },
    {
      "cell_type": "code",
      "metadata": {
        "id": "fulKJdVJGW3f",
        "colab": {
          "base_uri": "https://localhost:8080/",
          "height": 84
        },
        "outputId": "ce9cbd29-6a9a-41c1-f4ac-d41f2e36fff6"
      },
      "source": [
        "# Exercise 5\n",
        "a = int(input(\"escolha o primeiro número inteiro positivo: \"))\n",
        "b = int(input(\"escolha o segundo número inteiro positivo: \"))\n",
        "div = int(input(\"escolha o terceiro número inteiro positivo: \"))\n",
        "\n",
        "\n",
        "if a % div == 0 and b % div == 0 and a % (div+1) == 0 and b % (div+1) == 0:\n",
        "  print(\"LOTR\")\n",
        "else: \n",
        "  if a < 0 or b < 0 or div < 0:\n",
        "    print(\"Avatar\")\n",
        "  else:\n",
        "    print(\"Narnia\")"
      ],
      "execution_count": null,
      "outputs": [
        {
          "output_type": "stream",
          "text": [
            "escolha o primeiro número inteiro positivo: 10\n",
            "escolha o segundo número inteiro positivo: 8\n",
            "escolha o terceiro número inteiro positivo: 2\n",
            "Narnia\n"
          ],
          "name": "stdout"
        }
      ]
    },
    {
      "cell_type": "code",
      "metadata": {
        "id": "K2T68vdzPGWm",
        "colab": {
          "base_uri": "https://localhost:8080/",
          "height": 67
        },
        "outputId": "2aeab994-85fa-4e15-9b71-88c26690f905"
      },
      "source": [
        "# Exercise 6 \n",
        "preferencia = input(\"você prefere gatos ou cachorros? \")\n",
        "idade = int(input(\"quantos anos você tem? \"))\n",
        "\n",
        "if preferencia == \"cachorros\":\n",
        "  if idade < 21:\n",
        "    print(idade/10.5)\n",
        "  else: \n",
        "    print((idade - 21)/4 + 2)\n",
        "else: \n",
        "  if idade < 15:\n",
        "    print(idade/15)\n",
        "  if idade < 25: \n",
        "    print((idade - 15)/ 10 + 1)\n",
        "  else:\n",
        "   print((idade - 25)/4 + 2)\n"
      ],
      "execution_count": null,
      "outputs": [
        {
          "output_type": "stream",
          "text": [
            "você prefere gatos ou cachorros? cachorros\n",
            "quantos anos você tem? 18\n",
            "1.7142857142857142\n"
          ],
          "name": "stdout"
        }
      ]
    },
    {
      "cell_type": "code",
      "metadata": {
        "id": "Qv-5eG25fnX6"
      },
      "source": [
        "# Exercise 7\n",
        "ano = int(input(\"em que ano você nasceu? \"))\n",
        "ani = input(\"você já fez aniversário este ano? (sim ou não) \")\n",
        "if ani == \"sim\":\n",
        "  print(\"você tem\", 2020 - ano, \"anos\")\n",
        "if ani == \"não\":\n",
        "  print(\"você tem\", 2020-1-ano, \"anos\")"
      ],
      "execution_count": null,
      "outputs": []
    },
    {
      "cell_type": "code",
      "metadata": {
        "id": "KevXfFgzfu87",
        "colab": {
          "base_uri": "https://localhost:8080/",
          "height": 67
        },
        "outputId": "6353ec54-527b-4f24-963d-5fe248c541d2"
      },
      "source": [
        "# Exercise 8 \n",
        "s = input(\"Celsius ou Fahrenheit? (C/F?) \")\n",
        "c = float(input(\"qual a temperantura? \"))\n",
        "if s == \"C\":\n",
        "  print(\"A temperatura em Fahrenheit é\", (9/5 * c) + 32)\n",
        "if s == \"F\":\n",
        "  print(\"A temperatura em Celsius é\", (c - 32)* 5/9)\n"
      ],
      "execution_count": null,
      "outputs": [
        {
          "output_type": "stream",
          "text": [
            "Celsius ou Fahrenheit? (C/F?) C\n",
            "qual a temperantura? 34\n",
            "A temperatura em Fahrenheit é 93.2\n"
          ],
          "name": "stdout"
        }
      ]
    },
    {
      "cell_type": "code",
      "metadata": {
        "id": "8vlyQ9qOhb_T",
        "colab": {
          "base_uri": "https://localhost:8080/",
          "height": 67
        },
        "outputId": "1cff30ab-1498-4532-80b2-8ff77e7a8a36"
      },
      "source": [
        "# Exercise 9 \n",
        "s = input(\"Polegadas ou centímetros? (inch/cm?) \")\n",
        "m = float(input(\"qual a medida?\"))\n",
        "\n",
        "if s == \"cm\":\n",
        "  print(\"A medida em polegadas é \", m*2.54)\n",
        "if m == \"inch\":\n",
        "  print(\"A medida em centímetros é \", m/2.54)"
      ],
      "execution_count": null,
      "outputs": [
        {
          "output_type": "stream",
          "text": [
            "Polegadas ou centímetros? (inch/cm?) cm\n",
            "qual a medida?30\n",
            "A medida em polegadas é  76.2\n"
          ],
          "name": "stdout"
        }
      ]
    },
    {
      "cell_type": "code",
      "metadata": {
        "id": "jtV_iifKh-6Z",
        "colab": {
          "base_uri": "https://localhost:8080/",
          "height": 67
        },
        "outputId": "10dc1e9f-aacb-4cff-e8e4-b5ec5a4f9ad4"
      },
      "source": [
        "# Exercise 10 \n",
        "p = int(input(\"Quantas pessoas estavam lá? \"))\n",
        "t = float(input(\"O total a ser pago é: \"))\n",
        "s = t*0.1\n",
        "r = p - 1\n",
        "pag = (t/p + s/r)\n",
        "print(\"cada um vai pagar \", pag, \"reais\")"
      ],
      "execution_count": null,
      "outputs": [
        {
          "output_type": "stream",
          "text": [
            "Quantas pessoas estavam lá? 10\n",
            "O total a ser pago é: 150\n",
            "cada um vai pagar  16.666666666666668 reais\n"
          ],
          "name": "stdout"
        }
      ]
    },
    {
      "cell_type": "code",
      "metadata": {
        "id": "FRJZfcI6kNjQ"
      },
      "source": [
        ""
      ],
      "execution_count": null,
      "outputs": []
    }
  ]
}